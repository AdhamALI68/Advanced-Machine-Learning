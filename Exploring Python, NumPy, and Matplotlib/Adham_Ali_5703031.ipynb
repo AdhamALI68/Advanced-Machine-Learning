{
 "cells": [
  {
   "cell_type": "markdown",
   "id": "e24493a4",
   "metadata": {},
   "source": [
    "# **Programming Assignment: Exploring Python, NumPy, and Matplotlib**"
   ]
  },
  {
   "cell_type": "markdown",
   "id": "6c63e68a",
   "metadata": {},
   "source": [
    "**Objective:** This assignment will evaluate your proficiency in Python programming, particularly in using core data structures, NumPy for numerical computations, and Matplotlib for data visualization."
   ]
  },
  {
   "cell_type": "markdown",
   "id": "6fb892df",
   "metadata": {},
   "source": [
    "## **Grading Criteria**"
   ]
  },
  {
   "cell_type": "markdown",
   "id": "79892b77",
   "metadata": {},
   "source": [
    "Part 1: 20 points (10 for Lists and Dictionaries && 10 for String Manipulation)\n",
    "Part 2: 20 Points (10 for Array Creation and Manipulation && 10 for Linear Algebra with Numpy) \n",
    "Part 3: 10 points"
   ]
  },
  {
   "cell_type": "markdown",
   "id": "80396123",
   "metadata": {},
   "source": [
    "## **Submission Instructions**"
   ]
  },
  {
   "cell_type": "markdown",
   "id": "451ca040",
   "metadata": {},
   "source": [
    "Submit your code as a single Jupyter Notebook file (`assignment.ipynb`).\n",
    "Ensure that your notebook is well-commented and that each section is clearly labeled.\n",
    "Include any necessary explanations in markdown cells."
   ]
  },
  {
   "cell_type": "markdown",
   "id": "bf0cd21b",
   "metadata": {},
   "source": [
    "## **Part 1: Python Basics**"
   ]
  },
  {
   "cell_type": "markdown",
   "id": "6232d23a",
   "metadata": {},
   "source": [
    "### 1. **Lists and Dictionaries**"
   ]
  },
  {
   "cell_type": "markdown",
   "id": "a6e27b25",
   "metadata": {},
   "source": [
    "1. Create a list of 10 random integers between 1 and 100 and print it.\n",
    "   You can use randint library\n",
    "   import random\n",
    "   there is a function cals"
   ]
  },
  {
   "cell_type": "code",
   "execution_count": 3,
   "id": "b66255df-65f7-4580-9bfc-ed1d882e1fa5",
   "metadata": {},
   "outputs": [
    {
     "name": "stdout",
     "output_type": "stream",
     "text": [
      "Random List: [12, 11, 40, 52, 22, 78, 68, 22, 94, 8]\n"
     ]
    }
   ],
   "source": [
    "import random\n",
    "random_list = [random.randint(1, 100) for _ in range(10)]\n",
    "print(\"Random List:\", random_list)\n"
   ]
  },
  {
   "cell_type": "markdown",
   "id": "7c72c073-977a-4fc1-9b0b-92d5c117ef92",
   "metadata": {},
   "source": [
    "2. Write a function to find the mean, median, and mode of the above created list.\n",
    "   you can use any library numpy, scipy, statistics or panda"
   ]
  },
  {
   "cell_type": "code",
   "execution_count": 7,
   "id": "0a4f0ec3-54ea-409a-88f6-c14a68ab899c",
   "metadata": {},
   "outputs": [
    {
     "name": "stdout",
     "output_type": "stream",
     "text": [
      "Mean: 40.7\n",
      "Median: 31.0\n",
      "Mode: 22\n"
     ]
    }
   ],
   "source": [
    "from statistics import mean, median, mode\n",
    "\n",
    "def calculate_statistics(numbers):\n",
    "    list_mean = mean(numbers)\n",
    "    list_median = median(numbers)\n",
    "    try:\n",
    "        list_mode = mode(numbers)\n",
    "    except:\n",
    "        list_mode = \"No unique mode\"\n",
    "    return list_mean, list_median, list_mode\n",
    "\n",
    "list_mean, list_median, list_mode = calculate_statistics(random_list)\n",
    "print(\"Mean:\", list_mean)\n",
    "print(\"Median:\", list_median)\n",
    "print(\"Mode:\", list_mode)\n"
   ]
  },
  {
   "cell_type": "markdown",
   "id": "013a9d73-3fe5-4116-97b5-304b4a4aa27c",
   "metadata": {},
   "source": [
    "3. Create a dictionary from the created list where keys are the elements and values are their squares.\n",
    "   #Save it in \"squared_dict\" which is being used in following block of code."
   ]
  },
  {
   "cell_type": "code",
   "execution_count": 9,
   "id": "18f0f4ad-0de5-45f8-b15d-486a32c6ba99",
   "metadata": {},
   "outputs": [
    {
     "name": "stdout",
     "output_type": "stream",
     "text": [
      "Squared Dictionary: {12: 144, 11: 121, 40: 1600, 52: 2704, 22: 484, 78: 6084, 68: 4624, 94: 8836, 8: 64}\n"
     ]
    }
   ],
   "source": [
    "squared_dict = {num: num**2 for num in random_list}\n",
    "print(\"Squared Dictionary:\", squared_dict)\n"
   ]
  },
  {
   "cell_type": "markdown",
   "id": "3ecbbb23-b75a-4d35-a37c-3e7c6a403d5d",
   "metadata": {},
   "source": [
    "4. Implement a function to find the key with the maximum value in the dictionary."
   ]
  },
  {
   "cell_type": "code",
   "execution_count": 11,
   "id": "c1cbad0e-9b7d-4371-9e35-6a9f9438c6a8",
   "metadata": {},
   "outputs": [
    {
     "name": "stdout",
     "output_type": "stream",
     "text": [
      "Key with Maximum Value: 94\n"
     ]
    }
   ],
   "source": [
    "def find_max_value_key(squared_dict):\n",
    "    max_key = max(squared_dict, key=squared_dict.get)\n",
    "    return max_key\n",
    "\n",
    "max_key = find_max_value_key(squared_dict)\n",
    "print(\"Key with Maximum Value:\", max_key)\n"
   ]
  },
  {
   "cell_type": "markdown",
   "id": "7a3253fe",
   "metadata": {},
   "source": [
    "### 2. **String Manipulation**"
   ]
  },
  {
   "cell_type": "markdown",
   "id": "836e049e",
   "metadata": {},
   "source": [
    "1. Write a function to reverse a string and check if it is a palindrome.\n",
    "   write you name in example_string_2"
   ]
  },
  {
   "cell_type": "code",
   "execution_count": 16,
   "id": "3afdddb1-7a8f-459a-b6ee-d97630b80237",
   "metadata": {},
   "outputs": [
    {
     "name": "stdout",
     "output_type": "stream",
     "text": [
      "madam is a palindrome: True\n",
      "Adham Ali is a palindrome: False\n"
     ]
    }
   ],
   "source": [
    "def is_palindrome(string):\n",
    "    reversed_string = string[::-1]\n",
    "    return reversed_string == string\n",
    "\n",
    "example_string_1 = \"madam\"\n",
    "example_string_2 = \"Adham Ali\"  # Replace with your name\n",
    "\n",
    "print(f\"{example_string_1} is a palindrome: {is_palindrome(example_string_1)}\")\n",
    "print(f\"{example_string_2} is a palindrome: {is_palindrome(example_string_2)}\")\n"
   ]
  },
  {
   "cell_type": "markdown",
   "id": "022c0abc-6071-4cbf-93d1-f28c9f6f348d",
   "metadata": {},
   "source": [
    "2. Create a function that counts the number of vowels in a given string.\n",
    "   check with above given strings, example_string_1 and example_string_2 and print the output"
   ]
  },
  {
   "cell_type": "code",
   "execution_count": 25,
   "id": "3a9a47eb-29b9-4ab8-91bb-91492876cf25",
   "metadata": {},
   "outputs": [
    {
     "name": "stdout",
     "output_type": "stream",
     "text": [
      "Vowels in madam: 2\n",
      "Vowels in Adham Ali: 4\n"
     ]
    }
   ],
   "source": [
    "def count_vowels(string):\n",
    "    vowels = \"aeiouAEIOU\"\n",
    "    return sum(1 for char in string if char in vowels)\n",
    "\n",
    "print(f\"Vowels in {example_string_1}: {count_vowels(example_string_1)}\")\n",
    "print(f\"Vowels in {example_string_2}: {count_vowels(example_string_2)}\")"
   ]
  },
  {
   "cell_type": "markdown",
   "id": "48eb5e02",
   "metadata": {},
   "source": [
    "## **Part 2: NumPy Operations**"
   ]
  },
  {
   "cell_type": "markdown",
   "id": "2ffcd433",
   "metadata": {},
   "source": [
    "### 1. **Array Creation and Manipulation**"
   ]
  },
  {
   "cell_type": "markdown",
   "id": "b91b49f5",
   "metadata": {},
   "source": [
    "1. Create a 5x5 NumPy array with random integers between 1 and 100 and print it. "
   ]
  },
  {
   "cell_type": "code",
   "execution_count": 27,
   "id": "6e7b13d3-53a4-4ba6-b5b8-814ec2236796",
   "metadata": {},
   "outputs": [
    {
     "name": "stdout",
     "output_type": "stream",
     "text": [
      "Original Array:\n",
      " [[72 74 50 80 92]\n",
      " [38 74  9 31 29]\n",
      " [39 33 13 42 38]\n",
      " [32  3 11 66 69]\n",
      " [70 22 47 67 24]]\n"
     ]
    }
   ],
   "source": [
    "import numpy as np\n",
    "\n",
    "array = np.random.randint(1, 101, size=(5, 5))\n",
    "print(\"Original Array:\\n\", array)\n"
   ]
  },
  {
   "cell_type": "markdown",
   "id": "f4769933-bad1-4546-b4c3-214647dd4400",
   "metadata": {},
   "source": [
    "2. Replace all even numbers in the array with -1 and than print the output"
   ]
  },
  {
   "cell_type": "code",
   "execution_count": 31,
   "id": "3d82b59f-1762-4eff-896b-77905a5e3340",
   "metadata": {},
   "outputs": [
    {
     "name": "stdout",
     "output_type": "stream",
     "text": [
      "Array with Even Numbers Replaced by -1:\n",
      " [[-1 -1 -1 -1 -1]\n",
      " [-1 -1  9 31 29]\n",
      " [39 33 13 -1 -1]\n",
      " [-1  3 11 -1 69]\n",
      " [-1 -1 47 67 -1]]\n"
     ]
    }
   ],
   "source": [
    "array_with_replacement = np.where(array % 2 == 0, -1, array)\n",
    "print(\"Array with Even Numbers Replaced by -1:\\n\", array_with_replacement)\n"
   ]
  },
  {
   "cell_type": "markdown",
   "id": "b4a36da5-35ed-4705-a028-79892187c250",
   "metadata": {},
   "source": [
    "3. Calculate the mean and standard deviation of the array elements and than print the output\n",
    "   use numpy library"
   ]
  },
  {
   "cell_type": "code",
   "execution_count": 33,
   "id": "8b8e84c2-5a6d-45a9-b683-29f638ff2cb4",
   "metadata": {},
   "outputs": [
    {
     "name": "stdout",
     "output_type": "stream",
     "text": [
      "Mean: 45.0, Standard Deviation: 24.59105528439152\n"
     ]
    }
   ],
   "source": [
    "mean_value = np.mean(array)\n",
    "std_dev = np.std(array)\n",
    "print(f\"Mean: {mean_value}, Standard Deviation: {std_dev}\")\n"
   ]
  },
  {
   "cell_type": "markdown",
   "id": "550d6edc-2719-4cba-b710-c14fd9e7ceb2",
   "metadata": {},
   "source": [
    "4. Reshape the array to a 1x25 array and then back to a 5x5 array and than print the output. "
   ]
  },
  {
   "cell_type": "code",
   "execution_count": 35,
   "id": "7e32d3a0-77d0-467c-9995-012d87a6075c",
   "metadata": {},
   "outputs": [
    {
     "name": "stdout",
     "output_type": "stream",
     "text": [
      "Reshaped to 1x25:\n",
      " [[72 74 50 80 92 38 74  9 31 29 39 33 13 42 38 32  3 11 66 69 70 22 47 67\n",
      "  24]]\n",
      "Reshaped Back to 5x5:\n",
      " [[72 74 50 80 92]\n",
      " [38 74  9 31 29]\n",
      " [39 33 13 42 38]\n",
      " [32  3 11 66 69]\n",
      " [70 22 47 67 24]]\n"
     ]
    }
   ],
   "source": [
    "reshaped_array = array.reshape(1, 25)\n",
    "print(\"Reshaped to 1x25:\\n\", reshaped_array)\n",
    "\n",
    "reshaped_back_array = reshaped_array.reshape(5, 5)\n",
    "print(\"Reshaped Back to 5x5:\\n\", reshaped_back_array)\n"
   ]
  },
  {
   "cell_type": "markdown",
   "id": "6c3a8c0b",
   "metadata": {},
   "source": [
    "### 2. **Linear Algebra with NumPy**"
   ]
  },
  {
   "cell_type": "markdown",
   "id": "e820ee8f",
   "metadata": {},
   "source": [
    "1. Create two 3x3 matrices."
   ]
  },
  {
   "cell_type": "code",
   "execution_count": 37,
   "id": "acecfeb0-6e53-46aa-8552-b1a916f3e441",
   "metadata": {},
   "outputs": [
    {
     "name": "stdout",
     "output_type": "stream",
     "text": [
      "Matrix 1:\n",
      " [[5 9 6]\n",
      " [1 4 6]\n",
      " [8 4 6]]\n",
      "Matrix 2:\n",
      " [[4 9 5]\n",
      " [6 8 9]\n",
      " [4 2 7]]\n"
     ]
    }
   ],
   "source": [
    "import numpy as np\n",
    "\n",
    "matrix_1 = np.random.randint(1, 10, (3, 3))\n",
    "matrix_2 = np.random.randint(1, 10, (3, 3))\n",
    "\n",
    "print(\"Matrix 1:\\n\", matrix_1)\n",
    "print(\"Matrix 2:\\n\", matrix_2)\n"
   ]
  },
  {
   "cell_type": "markdown",
   "id": "ea1ee2c9-b97a-4db2-9605-a6732b8248ec",
   "metadata": {},
   "source": [
    "2. Perform addition of created matrices and print it."
   ]
  },
  {
   "cell_type": "code",
   "execution_count": 39,
   "id": "6be29847-c091-45f5-9c55-18ea3d5039c0",
   "metadata": {},
   "outputs": [
    {
     "name": "stdout",
     "output_type": "stream",
     "text": [
      "Addition of Matrices:\n",
      " [[ 9 18 11]\n",
      " [ 7 12 15]\n",
      " [12  6 13]]\n"
     ]
    }
   ],
   "source": [
    "matrix_addition = matrix_1 + matrix_2\n",
    "print(\"Addition of Matrices:\\n\", matrix_addition)\n"
   ]
  },
  {
   "cell_type": "markdown",
   "id": "55e389c6-2908-4f87-bc98-1db4b9c42e4f",
   "metadata": {},
   "source": [
    "3. Perform subtraction of created matrices and print the output"
   ]
  },
  {
   "cell_type": "code",
   "execution_count": 41,
   "id": "be6c710c-9f36-4e8d-80e2-3216c268e3f1",
   "metadata": {},
   "outputs": [
    {
     "name": "stdout",
     "output_type": "stream",
     "text": [
      "Subtraction of Matrices:\n",
      " [[ 1  0  1]\n",
      " [-5 -4 -3]\n",
      " [ 4  2 -1]]\n"
     ]
    }
   ],
   "source": [
    "matrix_subtraction = matrix_1 - matrix_2\n",
    "print(\"Subtraction of Matrices:\\n\", matrix_subtraction)"
   ]
  },
  {
   "cell_type": "markdown",
   "id": "7897e5c5-331a-43cc-a788-d819b6c93e28",
   "metadata": {},
   "source": [
    "4. Perform multiplication of created matrices and print the output. "
   ]
  },
  {
   "cell_type": "code",
   "execution_count": 43,
   "id": "66a35d11-a673-40eb-bef9-42155fa99a4c",
   "metadata": {},
   "outputs": [
    {
     "name": "stdout",
     "output_type": "stream",
     "text": [
      "Multiplication of Matrices:\n",
      " [[ 98 129 148]\n",
      " [ 52  53  83]\n",
      " [ 80 116 118]]\n"
     ]
    }
   ],
   "source": [
    "matrix_multiplication = np.dot(matrix_1, matrix_2)\n",
    "print(\"Multiplication of Matrices:\\n\", matrix_multiplication)"
   ]
  },
  {
   "cell_type": "markdown",
   "id": "e17ef63c-c1dc-4517-b735-033a5466ae43",
   "metadata": {},
   "source": [
    "5. Find the determinant of one of the the matrices."
   ]
  },
  {
   "cell_type": "code",
   "execution_count": 45,
   "id": "83b0c462-99e9-401d-b4f9-457f28b6540d",
   "metadata": {},
   "outputs": [
    {
     "name": "stdout",
     "output_type": "stream",
     "text": [
      "Determinant of Matrix 1: 209.99999999999994\n"
     ]
    }
   ],
   "source": [
    "determinant = np.linalg.det(matrix_1)\n",
    "print(\"Determinant of Matrix 1:\", determinant)"
   ]
  },
  {
   "cell_type": "markdown",
   "id": "6b6dbaa6-b958-441d-b70d-0804fd3aa3f5",
   "metadata": {},
   "source": [
    "6. Find the inverse of one of the matrices."
   ]
  },
  {
   "cell_type": "code",
   "execution_count": 47,
   "id": "7050cca2-6847-4e9d-974a-570c1a301e69",
   "metadata": {},
   "outputs": [
    {
     "name": "stdout",
     "output_type": "stream",
     "text": [
      "Inverse of Matrix 1:\n",
      " [[ 0.         -0.14285714  0.14285714]\n",
      " [ 0.2        -0.08571429 -0.11428571]\n",
      " [-0.13333333  0.24761905  0.05238095]]\n"
     ]
    }
   ],
   "source": [
    "if np.linalg.det(matrix_1) != 0:\n",
    "    matrix_inverse = np.linalg.inv(matrix_1)\n",
    "    print(\"Inverse of Matrix 1:\\n\", matrix_inverse)\n",
    "else:\n",
    "    print(\"Matrix 1 is not invertible.\")\n"
   ]
  },
  {
   "cell_type": "markdown",
   "id": "e8c1d3e6",
   "metadata": {},
   "source": [
    "## **Part 3: Data Visualization with Matplotlib**"
   ]
  },
  {
   "cell_type": "markdown",
   "id": "9734514d",
   "metadata": {},
   "source": [
    "### 1. **Plotting Basics**"
   ]
  },
  {
   "cell_type": "markdown",
   "id": "aeace7d3-73c0-4103-9b23-6771af906e59",
   "metadata": {},
   "source": [
    "1. Using the data from the sine and cosine waves, create a subplot that shows both plots individually.\n",
    "   Hint_1: you can use np.linspace to generate hundred points from 0 to 2π\n",
    "   Hint_2: use these values of linspace to create sin and cosie values using np.sin() and np.cos()\n",
    "   Hint_3: Use matplotlib library for and make subplots."
   ]
  },
  {
   "cell_type": "code",
   "execution_count": 50,
   "id": "895c04e8-8e5c-4cf2-9761-9ac1f9f76195",
   "metadata": {},
   "outputs": [
    {
     "data": {
      "image/png": "[encoded data removed]",
      "text/plain": [
       "<Figure size 720x360 with 2 Axes>"
      ]
     },
     "metadata": {
      "needs_background": "light"
     },
     "output_type": "display_data"
    }
   ],
   "source": [
    "import numpy as np\n",
    "import matplotlib.pyplot as plt\n",
    "\n",
    "x = np.linspace(0, 2 * np.pi, 100)\n",
    "\n",
    "y_sin = np.sin(x)\n",
    "y_cos = np.cos(x)\n",
    "\n",
    "plt.figure(figsize=(10, 5))\n",
    "\n",
    "plt.subplot(1, 2, 1)\n",
    "plt.plot(x, y_sin, label=\"sin(x)\", color=\"blue\")\n",
    "plt.title(\"Sine Wave\")\n",
    "plt.xlabel(\"x\")\n",
    "plt.ylabel(\"sin(x)\")\n",
    "plt.grid(True)\n",
    "plt.legend()\n",
    "\n",
    "plt.subplot(1, 2, 2)\n",
    "plt.plot(x, y_cos, label=\"cos(x)\", color=\"red\")\n",
    "plt.title(\"Cosine Wave\")\n",
    "plt.xlabel(\"x\")\n",
    "plt.ylabel(\"cos(x)\")\n",
    "plt.grid(True)\n",
    "plt.legend()\n",
    "\n",
    "plt.tight_layout()\n",
    "plt.show()\n"
   ]
  },
  {
   "cell_type": "markdown",
   "id": "8e7004c8",
   "metadata": {},
   "source": [
    "2. Plot a scatter plot of 100 random points with varying sizes and colors. Include gridlines and labels for the axes. Use numpy and Matplotlib library."
   ]
  },
  {
   "cell_type": "code",
   "execution_count": 52,
   "id": "88e769e8-45df-42f7-b624-6024d9e3a21c",
   "metadata": {},
   "outputs": [
    {
     "data": {
      "image/png": "[encoded data removed]",
      "text/plain": [
       "<Figure size 576x432 with 2 Axes>"
      ]
     },
     "metadata": {
      "needs_background": "light"
     },
     "output_type": "display_data"
    }
   ],
   "source": [
    "x = np.random.rand(100)\n",
    "y = np.random.rand(100)\n",
    "sizes = np.random.rand(100) * 100\n",
    "colors = np.random.rand(100)  \n",
    "\n",
    "plt.figure(figsize=(8, 6))\n",
    "plt.scatter(x, y, s=sizes, c=colors, alpha=0.7, cmap=\"viridis\")\n",
    "plt.title(\"Scatter Plot of Random Points\")\n",
    "plt.xlabel(\"X-axis\")\n",
    "plt.ylabel(\"Y-axis\")\n",
    "plt.grid(True)\n",
    "plt.colorbar(label=\"Color Intensity\")\n",
    "plt.show()\n"
   ]
  }
 ],
 "metadata": {
  "kernelspec": {
   "display_name": "anaconda-2022.05-py39",
   "language": "python",
   "name": "conda-env-anaconda-2022.05-py39-py"
  },
  "language_info": {
   "codemirror_mode": {
    "name": "ipython",
    "version": 3
   },
   "file_extension": ".py",
   "mimetype": "text/x-python",
   "name": "python",
   "nbconvert_exporter": "python",
   "pygments_lexer": "ipython3",
   "version": "3.9.12"
  }
 },
 "nbformat": 4,
 "nbformat_minor": 5
}
