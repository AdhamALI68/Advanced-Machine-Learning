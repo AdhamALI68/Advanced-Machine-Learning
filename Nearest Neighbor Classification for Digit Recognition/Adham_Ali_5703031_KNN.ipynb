{
 "cells": [
  {
   "cell_type": "markdown",
   "id": "54dff086-8fd1-4817-9da1-7d3eebbc4820",
   "metadata": {},
   "source": [
    "# **CAP 4630 – Assignment 4: k-Nearest Neighbors for Digit Recognition**\n",
    "**Name:** Adham Ali  \n",
    "**ID:** 5703031  \n",
    "**Date:** April 06, 2025\n",
    "\n",
    "In this assignment, we will:\n",
    "1. Load and explore the digits dataset from **sklearn.datasets**.  \n",
    "2. Split the data into training and testing sets (**500 samples** reserved for testing).  \n",
    "3. Visualize **10 random training images** to understand the data structure.  \n",
    "4. Implement **k-NN** classifiers for **k = 1, 3, 5, 7, 9**.  \n",
    "5. Compare and discuss **F1 scores** across different k values.  \n",
    "6. Display **qualitative predictions** for a handful of test images for each classifier.  \n",
    "7. Provide an **overall analysis** on the impact of different k values on performance."
   ]
  },
  {
   "cell_type": "code",
   "execution_count": 17,
   "id": "b7be9ef7-ae81-4dbf-a396-480ae9c4762b",
   "metadata": {},
   "outputs": [],
   "source": [
    "# Libraries Needed\n",
    "import numpy as np\n",
    "import matplotlib.pyplot as plt\n",
    "import pandas as pd\n",
    "import os\n",
    "\n",
    "os.environ[\"LOKY_MAX_CPU_COUNT\"] = \"2\"\n",
    "\n",
    "from sklearn.datasets import load_digits\n",
    "from sklearn.model_selection import train_test_split\n",
    "from sklearn.neighbors import KNeighborsClassifier\n",
    "from sklearn.metrics import f1_score"
   ]
  },
  {
   "cell_type": "markdown",
   "id": "c61b9c1c-dd67-4ef8-aba6-325746013339",
   "metadata": {},
   "source": [
    "## **1. Loading and Exploring the Dataset**\n",
    "\n",
    "Here we load the `digits` dataset, which contains 1,797 samples (images of handwritten digits 0–9). Each sample is an 8×8 grayscale image, flattened into a 64-element array. We check the shapes of our features (**X**) and labels (**y**) to ensure we understand the data dimensions. Then we split off **500** samples for testing. This step allows us to train on part of the data (1,297 samples) and evaluate on a separate test subset.\n"
   ]
  },
  {
   "cell_type": "code",
   "execution_count": 18,
   "id": "2a5753dd-15ce-409e-83b7-28a06b9787d1",
   "metadata": {},
   "outputs": [
    {
     "name": "stdout",
     "output_type": "stream",
     "text": [
      "Shape of X: (1797, 64)\n",
      "Shape of y: (1797,)\n",
      "Shape of X_train: (1297, 64)\n",
      "Shape of y_train: (1297,)\n",
      "Shape of X_test: (500, 64)\n",
      "Shape of y_test: (500,)\n"
     ]
    }
   ],
   "source": [
    "# 1. Load the dataset\n",
    "digits = load_digits()\n",
    "\n",
    "# Features and labels\n",
    "X = digits.data\n",
    "y = digits.target\n",
    "\n",
    "# Print shapes of X and y\n",
    "print(\"Shape of X:\", X.shape)\n",
    "print(\"Shape of y:\", y.shape)\n",
    "\n",
    "# 2. Split the dataset (reserving 500 samples for the test set)\n",
    "X_train, X_test, y_train, y_test = train_test_split(\n",
    "    X, \n",
    "    y, \n",
    "    test_size=500, \n",
    "    random_state=42\n",
    ")\n",
    "\n",
    "# Print shapes to verify\n",
    "print(\"Shape of X_train:\", X_train.shape)\n",
    "print(\"Shape of y_train:\", y_train.shape)\n",
    "print(\"Shape of X_test:\", X_test.shape)\n",
    "print(\"Shape of y_test:\", y_test.shape)\n"
   ]
  },
  {
   "cell_type": "markdown",
   "id": "5698a2ee-c2e4-4e9d-ba90-7f752df257c3",
   "metadata": {},
   "source": [
    "### Observations:\n",
    "- The dataset has 1797 images in total.\n",
    "- By setting `test_size=500`, our training set has 1297 samples.\n",
    "- Each image is represented by 64 features (8×8 = 64 pixels).\n"
   ]
  },
  {
   "cell_type": "markdown",
   "id": "d30c4128-05e6-4ed4-93a0-9a565ae09001",
   "metadata": {},
   "source": [
    "## **2. Visualizing Training Data**\n",
    "\n",
    "Before we dive into model building, it’s helpful to see some of the images we’ll be working with. We randomly pick **10** images from our training set, reshape them to 8×8, and display them in grayscale with their corresponding labels.\n",
    "\n"
   ]
  },
  {
   "cell_type": "code",
   "execution_count": 19,
   "id": "3d5c054e-c8a4-47f1-a1de-9a2f95153030",
   "metadata": {},
   "outputs": [
    {
     "data": {
      "image/png": "[encoded data removed]",
      "text/plain": [
       "<Figure size 1000x200 with 10 Axes>"
      ]
     },
     "metadata": {},
     "output_type": "display_data"
    }
   ],
   "source": [
    "# Select 10 random indices from the training set\n",
    "num_samples_to_show = 10\n",
    "random_indices = np.random.choice(len(X_train), num_samples_to_show, replace=False)\n",
    "\n",
    "# Create a figure for displaying images\n",
    "plt.figure(figsize=(10, 2))\n",
    "\n",
    "for i, idx in enumerate(random_indices):\n",
    "    # Each image in digits is 8x8\n",
    "    image = X_train[idx].reshape(8, 8)\n",
    "    label = y_train[idx]\n",
    "    \n",
    "    plt.subplot(1, num_samples_to_show, i + 1)\n",
    "    plt.imshow(image, cmap='gray')\n",
    "    plt.title(f\"Label: {label}\")\n",
    "    plt.axis('off')\n",
    "\n",
    "plt.tight_layout()\n",
    "plt.show()"
   ]
  },
  {
   "cell_type": "markdown",
   "id": "a3cfe9fb-0752-4b21-807f-1e3258c2b0a3",
   "metadata": {},
   "source": [
    "### Observations:\n",
    "- Each digit (0–9) appears in the dataset multiple times.\n",
    "- The images are small (8×8 pixels), and grayscale intensities are stored in a single array.\n",
    "- These images are generally quite recognizable as digits, but there may be some that are harder to classify.\n",
    "\n",
    "---"
   ]
  },
  {
   "cell_type": "markdown",
   "id": "54064bdf-fd4d-4833-9dd4-1f9fc925d5a8",
   "metadata": {},
   "source": [
    "## **3. Implementing the k-NN Classifier**\n",
    "\n",
    "We will train **five** different k-NN classifiers for **k = 1, 3, 5, 7, 9**. Each classifier uses the Euclidean distance between points (by default). We store them in a dictionary to keep them organized.\n",
    "\n"
   ]
  },
  {
   "cell_type": "code",
   "execution_count": 20,
   "id": "ed12c0ae-5cdb-41f1-88de-e62ce7a0d9b9",
   "metadata": {},
   "outputs": [
    {
     "name": "stdout",
     "output_type": "stream",
     "text": [
      "Trained k-NN classifiers for k = [1, 3, 5, 7, 9]\n"
     ]
    }
   ],
   "source": [
    "# Possible k values\n",
    "k_values = [1, 3, 5, 7, 9]\n",
    "\n",
    "# Dictionary to store trained models\n",
    "knn_classifiers = {}\n",
    "\n",
    "for k in k_values:\n",
    "    knn = KNeighborsClassifier(n_neighbors=k)\n",
    "    knn.fit(X_train, y_train)\n",
    "    knn_classifiers[k] = knn\n",
    "\n",
    "print(\"Trained k-NN classifiers for k =\", k_values)\n"
   ]
  },
  {
   "cell_type": "markdown",
   "id": "ea3c7491-6ad0-46a7-bbbd-9e75f49bfdbd",
   "metadata": {},
   "source": [
    "### Observations:\n",
    "- When k=1, the model looks only at the closest single neighbor to decide the class.  \n",
    "- Larger k values consider more neighbors, which can smooth out noise but risks losing finer local details.  \n",
    "\n",
    "---"
   ]
  },
  {
   "cell_type": "markdown",
   "id": "37f39c02-5f33-4391-9987-476ff5df5559",
   "metadata": {},
   "source": [
    "## **4. Evaluating and Comparing Classifiers**\n",
    "\n",
    "We use the **weighted F1 score** to handle multi-class classification. For each k, we generate predictions on the **test set** (500 samples) and compute the F1 score.\n",
    "\n",
    "The F1 score combines precision and recall into a single metric, especially useful for multi-class or imbalanced classification. A higher F1 score indicates better performance.\n",
    "\n"
   ]
  },
  {
   "cell_type": "code",
   "execution_count": 21,
   "id": "e464d039-ca66-4eea-95b4-b563f5535034",
   "metadata": {},
   "outputs": [
    {
     "name": "stdout",
     "output_type": "stream",
     "text": [
      "   k  F1 Score (weighted)\n",
      "0  1             0.984033\n",
      "1  3             0.989941\n",
      "2  5             0.993981\n",
      "3  7             0.991967\n",
      "4  9             0.981890\n"
     ]
    }
   ],
   "source": [
    "# Evaluate each classifier on the test set\n",
    "f1_scores = []\n",
    "\n",
    "# Evaluate each classifier\n",
    "for k in k_values:\n",
    "    knn = knn_classifiers[k]\n",
    "    y_pred = knn.predict(X_test)\n",
    "    score = f1_score(y_test, y_pred, average='weighted')\n",
    "    f1_scores.append(score)\n",
    "\n",
    "# Display the results in a DataFrame\n",
    "\n",
    "results_df = pd.DataFrame({\n",
    "    'k': k_values,\n",
    "    'F1 Score (weighted)': f1_scores\n",
    "})\n",
    "\n",
    "print(results_df)"
   ]
  },
  {
   "cell_type": "markdown",
   "id": "5aac3f03-4e79-4286-89ae-85a1ed74e144",
   "metadata": {},
   "source": [
    "### Observations and Analysis:\n",
    "\n",
    "- Inspect the F1 score for each value of k.\n",
    "- **k=1** might yield higher variance (sometimes it's great, sometimes not), as it depends on a single neighbor.\n",
    "- **Intermediate k** (e.g., 3 or 5) often balances noise reduction and local detail.\n",
    "- **Larger k** (7, 9) may smooth out too much detail, but can also generalize well if the dataset is fairly clean.\n",
    "\n",
    "\n",
    "Then you see **k=5** produced the highest F1 (about 0.994), and k=9 gave a slightly lower score, around 0.982.\n",
    "\n",
    "- **Conclusion**: For this dataset, k=5 seems to give the best overall performance. \n",
    "\n",
    "---\n"
   ]
  },
  {
   "cell_type": "markdown",
   "id": "d1ddd45f-52c3-48cc-90a1-d585c787da5f",
   "metadata": {},
   "source": [
    "## **5. Visualizing Qualitative Predictions**\n",
    "\n",
    "Quantitative metrics are crucial, but it’s also helpful to **visualize** how the model performs on actual images. Below, we:\n",
    "1. Randomly select a few images from the **test set**.\n",
    "2. For each image, show the predicted label vs. its true label for each k.  \n",
    "\n",
    "This way, we can see where each model succeeds or fails.\n",
    "\n"
   ]
  },
  {
   "cell_type": "code",
   "execution_count": 22,
   "id": "55006dab-a4f0-4e88-bd11-996baba5fe77",
   "metadata": {},
   "outputs": [
    {
     "data": {
      "image/png": "[encoded data removed]",
      "text/plain": [
       "<Figure size 1000x1200 with 15 Axes>"
      ]
     },
     "metadata": {},
     "output_type": "display_data"
    }
   ],
   "source": [
    "# Number of samples to display per classifier\n",
    "samples_per_classifier = 3\n",
    "\n",
    "plt.figure(figsize=(10, 12))\n",
    "\n",
    "image_index = 1\n",
    "\n",
    "# We'll loop through each classifier\n",
    "for k in k_values:\n",
    "    knn = knn_classifiers[k]\n",
    "    \n",
    "    # Pick some random test indices\n",
    "    test_indices = np.random.choice(len(X_test), samples_per_classifier, replace=False)\n",
    "    \n",
    "    for idx in test_indices:\n",
    "        image = X_test[idx].reshape(8, 8)\n",
    "        true_label = y_test[idx]\n",
    "        predicted_label = knn.predict([X_test[idx]])[0]\n",
    "        \n",
    "        plt.subplot(len(k_values), samples_per_classifier, image_index)\n",
    "        plt.imshow(image, cmap='gray')\n",
    "        plt.title(f\"k={k}\\nPred:{predicted_label}\\nTrue:{true_label}\")\n",
    "        plt.axis('off')\n",
    "        \n",
    "        image_index += 1\n",
    "\n",
    "plt.tight_layout()\n",
    "plt.show()"
   ]
  },
  {
   "cell_type": "markdown",
   "id": "caa51ddb-7711-4909-93ed-52a4b470defb",
   "metadata": {},
   "source": [
    "### Observations:\n",
    "\n",
    "- If the predicted label matches the true label, the model succeeded for that image.\n",
    "- If there's a mismatch, consider if the digit is visually ambiguous or the nearest neighbors misled the classifier.\n",
    "- You might notice consistent patterns across certain k values—e.g., maybe k=1 misclassifies more \"messy\" digits, but k=5 corrects those.\n",
    "\n",
    "---\n"
   ]
  },
  {
   "cell_type": "markdown",
   "id": "a6c3fccc-d8b6-4c0f-a4ad-61040a9ac31e",
   "metadata": {},
   "source": [
    "## **6. Final Analysis and Observations**\n",
    "\n",
    "1. **Dataset Shapes**  \n",
    "   - **X** has shape (1797, 64).  \n",
    "   - We reserved 500 samples for testing, leaving 1297 for training.  \n",
    "\n",
    "2. **k-NN Classifiers**  \n",
    "   - We trained models for k = 1, 3, 5, 7, 9. Each classifier used the default distance metric (Euclidean).  \n",
    "\n",
    "3. **F1 Scores**  \n",
    "   - Weighted F1 scores showed that **k=5** performed the best on this particular dataset (based on the example table).  \n",
    "   - **k=1** may sometimes do very well if the dataset is not noisy, but it risks overfitting.  \n",
    "\n",
    "4. **Qualitative Predictions**  \n",
    "   - The random samples from the test set mostly show correct classification for each k.  \n",
    "   - Occasional mistakes highlight digits that might be visually similar (e.g., a sloppy \"3\" vs. \"9\").  \n",
    "\n",
    "5. **Impact of k on Performance**  \n",
    "   - **k=1**: High variance, can match noise or outliers directly.  \n",
    "   - **k=3** and **k=5**: Often strikes a good balance for typical digit data.  \n",
    "   - **k=7** and **k=9**: Slightly more smoothing, occasionally lower performance if subtle details matter.  \n",
    "\n",
    "**Overall Conclusion**  \n",
    "The digits dataset is relatively clean and well-separated, so **k-NN** can achieve high performance (F1 ≥ 0.98) for a range of k values. However, **k=5** appears to yield the highest F1 score. Visual inspections show that the model is quite accurate, with very few misclassifications in the test set.\n",
    "\n",
    "This assignment demonstrates how **k-NN** works for digit classification and how different k values influence the trade-off between overfitting and underfitting.\n"
   ]
  }
 ],
 "metadata": {
  "kernelspec": {
   "display_name": "anaconda-2024.02-py310",
   "language": "python",
   "name": "conda-env-anaconda-2024.02-py310-py"
  },
  "language_info": {
   "codemirror_mode": {
    "name": "ipython",
    "version": 3
   },
   "file_extension": ".py",
   "mimetype": "text/x-python",
   "name": "python",
   "nbconvert_exporter": "python",
   "pygments_lexer": "ipython3",
   "version": "3.10.14"
  }
 },
 "nbformat": 4,
 "nbformat_minor": 5
}
